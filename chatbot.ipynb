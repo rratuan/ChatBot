{
 "cells": [
  {
   "cell_type": "code",
   "execution_count": 2,
   "id": "c030a136",
   "metadata": {},
   "outputs": [],
   "source": [
    "import getpass\n",
    "import os\n",
    "\n",
    "if not os.environ.get(\"GROQ_API_KEY\"):\n",
    "  os.environ[\"GROQ_API_KEY\"] = getpass.getpass(\"Enter API key for Groq: \")\n",
    "\n",
    "from langchain.chat_models import init_chat_model\n",
    "\n",
    "model = init_chat_model(\"llama-3.1-8b-instant\", model_provider=\"groq\", temperature=0)"
   ]
  },
  {
   "cell_type": "code",
   "execution_count": 3,
   "id": "ec87c994",
   "metadata": {},
   "outputs": [],
   "source": [
    "from langchain.memory import ConversationTokenBufferMemory\n",
    "from langchain.chains import ConversationChain\n",
    "from langchain.prompts import ChatPromptTemplate, MessagesPlaceholder, SystemMessagePromptTemplate, HumanMessagePromptTemplate\n",
    "\n",
    "# Prompt Template\n",
    "system_prompt = SystemMessagePromptTemplate.from_template(\n",
    "    \"Kamu adalah AI asisten. Jangan ulangi informasi pribadi user lebih dari sekali per respon, kecuali user bertanya terkait hal tersebut. Jawablah dengan padat dan jelas.\"\n",
    ")\n",
    "\n",
    "chat_prompt = ChatPromptTemplate.from_messages([\n",
    "    system_prompt,\n",
    "    MessagesPlaceholder(variable_name=\"history\"),\n",
    "    HumanMessagePromptTemplate.from_template(\"{input}\")\n",
    "])"
   ]
  },
  {
   "cell_type": "code",
   "execution_count": 4,
   "id": "ee8dd5ca",
   "metadata": {},
   "outputs": [
    {
     "name": "stderr",
     "output_type": "stream",
     "text": [
      "C:\\Users\\Ratuayu Nurfajar\\AppData\\Local\\Temp\\ipykernel_33976\\992581483.py:3: LangChainDeprecationWarning: Please see the migration guide at: https://python.langchain.com/docs/versions/migrating_memory/\n",
      "  memory = ConversationTokenBufferMemory(\n"
     ]
    }
   ],
   "source": [
    "from langchain.memory import ConversationTokenBufferMemory\n",
    "\n",
    "memory = ConversationTokenBufferMemory(\n",
    "    llm=model,\n",
    "    max_token_limit=2000,\n",
    "    return_messages=True,\n",
    "    memory_key=\"history\" \n",
    ")\n"
   ]
  },
  {
   "cell_type": "code",
   "execution_count": 5,
   "id": "7d8b450d",
   "metadata": {},
   "outputs": [
    {
     "name": "stderr",
     "output_type": "stream",
     "text": [
      "C:\\Users\\Ratuayu Nurfajar\\AppData\\Local\\Temp\\ipykernel_33976\\3720973349.py:3: LangChainDeprecationWarning: The class `ConversationChain` was deprecated in LangChain 0.2.7 and will be removed in 1.0. Use :class:`~langchain_core.runnables.history.RunnableWithMessageHistory` instead.\n",
      "  conversation = ConversationChain(\n"
     ]
    }
   ],
   "source": [
    "from langchain.chains import ConversationChain\n",
    "\n",
    "conversation = ConversationChain(\n",
    "    llm=model,\n",
    "    memory=memory,\n",
    "    prompt=chat_prompt,\n",
    "    verbose=True\n",
    ")"
   ]
  },
  {
   "cell_type": "code",
   "execution_count": 6,
   "id": "8671ec80",
   "metadata": {},
   "outputs": [
    {
     "name": "stdout",
     "output_type": "stream",
     "text": [
      "\n",
      "\n",
      "\u001b[1m> Entering new ConversationChain chain...\u001b[0m\n",
      "Prompt after formatting:\n",
      "\u001b[32;1m\u001b[1;3mSystem: Kamu adalah AI asisten. Jangan ulangi informasi pribadi user lebih dari sekali per respon, kecuali user bertanya terkait hal tersebut. Jawablah dengan padat dan jelas.\n",
      "Human: Halo, nama saya ratu\u001b[0m\n",
      "\n",
      "\u001b[1m> Finished chain.\u001b[0m\n"
     ]
    },
    {
     "data": {
      "text/plain": [
       "'Selamat datang, Ratu! Bagaimana saya dapat membantu Anda hari ini?'"
      ]
     },
     "execution_count": 6,
     "metadata": {},
     "output_type": "execute_result"
    }
   ],
   "source": [
    "conversation.predict(input=\"Halo, nama saya ratu\")"
   ]
  },
  {
   "cell_type": "code",
   "execution_count": 7,
   "id": "a5406fa6",
   "metadata": {},
   "outputs": [
    {
     "name": "stdout",
     "output_type": "stream",
     "text": [
      "\n",
      "\n",
      "\u001b[1m> Entering new ConversationChain chain...\u001b[0m\n",
      "Prompt after formatting:\n",
      "\u001b[32;1m\u001b[1;3mSystem: Kamu adalah AI asisten. Jangan ulangi informasi pribadi user lebih dari sekali per respon, kecuali user bertanya terkait hal tersebut. Jawablah dengan padat dan jelas.\n",
      "Human: Halo, nama saya ratu\n",
      "AI: Selamat datang, Ratu! Bagaimana saya dapat membantu Anda hari ini?\n",
      "Human: Siapa nama saya?\u001b[0m\n",
      "\n",
      "\u001b[1m> Finished chain.\u001b[0m\n"
     ]
    },
    {
     "data": {
      "text/plain": [
       "'Nama Anda adalah Ratu.'"
      ]
     },
     "execution_count": 7,
     "metadata": {},
     "output_type": "execute_result"
    }
   ],
   "source": [
    "conversation.predict(input=\"Siapa nama saya?\")"
   ]
  },
  {
   "cell_type": "code",
   "execution_count": 8,
   "id": "e4d22680",
   "metadata": {},
   "outputs": [
    {
     "name": "stdout",
     "output_type": "stream",
     "text": [
      "[HumanMessage(content='Halo, nama saya ratu', additional_kwargs={}, response_metadata={}), AIMessage(content='Selamat datang, Ratu! Bagaimana saya dapat membantu Anda hari ini?', additional_kwargs={}, response_metadata={}), HumanMessage(content='Siapa nama saya?', additional_kwargs={}, response_metadata={}), AIMessage(content='Nama Anda adalah Ratu.', additional_kwargs={}, response_metadata={})]\n"
     ]
    }
   ],
   "source": [
    "print(memory.buffer)"
   ]
  },
  {
   "cell_type": "code",
   "execution_count": 9,
   "id": "93af15ba",
   "metadata": {},
   "outputs": [
    {
     "data": {
      "text/plain": [
       "{'history': [HumanMessage(content='Halo, nama saya ratu', additional_kwargs={}, response_metadata={}),\n",
       "  AIMessage(content='Selamat datang, Ratu! Bagaimana saya dapat membantu Anda hari ini?', additional_kwargs={}, response_metadata={}),\n",
       "  HumanMessage(content='Siapa nama saya?', additional_kwargs={}, response_metadata={}),\n",
       "  AIMessage(content='Nama Anda adalah Ratu.', additional_kwargs={}, response_metadata={})]}"
      ]
     },
     "execution_count": 9,
     "metadata": {},
     "output_type": "execute_result"
    }
   ],
   "source": [
    "memory.load_memory_variables({})"
   ]
  },
  {
   "cell_type": "code",
   "execution_count": 10,
   "id": "a7cc8630",
   "metadata": {},
   "outputs": [
    {
     "data": {
      "text/plain": [
       "'Halo, nama saya ratu'"
      ]
     },
     "execution_count": 10,
     "metadata": {},
     "output_type": "execute_result"
    }
   ],
   "source": [
    "memory.buffer_as_messages[0].content"
   ]
  },
  {
   "cell_type": "code",
   "execution_count": 11,
   "id": "83b2e594",
   "metadata": {},
   "outputs": [
    {
     "data": {
      "text/plain": [
       "'ai'"
      ]
     },
     "execution_count": 11,
     "metadata": {},
     "output_type": "execute_result"
    }
   ],
   "source": [
    "memory.buffer_as_messages[1].type"
   ]
  },
  {
   "cell_type": "code",
   "execution_count": null,
   "id": "f48e627a",
   "metadata": {},
   "outputs": [],
   "source": []
  }
 ],
 "metadata": {
  "kernelspec": {
   "display_name": "env",
   "language": "python",
   "name": "python3"
  },
  "language_info": {
   "codemirror_mode": {
    "name": "ipython",
    "version": 3
   },
   "file_extension": ".py",
   "mimetype": "text/x-python",
   "name": "python",
   "nbconvert_exporter": "python",
   "pygments_lexer": "ipython3",
   "version": "3.11.13"
  }
 },
 "nbformat": 4,
 "nbformat_minor": 5
}
